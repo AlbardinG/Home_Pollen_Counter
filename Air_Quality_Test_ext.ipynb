{
 "cells": [
  {
   "cell_type": "markdown",
   "metadata": {},
   "source": [
    "# The SDS011 Air Quality Sensor \n",
    "\n",
    "http://aqicn.org/sensor/sds011/es/"
   ]
  },
  {
   "cell_type": "markdown",
   "metadata": {},
   "source": [
    "Developed by Marcelo Rovai\n",
    "\n",
    "- 21 August 2019"
   ]
  },
  {
   "cell_type": "markdown",
   "metadata": {},
   "source": [
    "Based on: [py-sds011](https://github.com/ikalchev/py-sds011) by [Ivan Kalchev ](https://www.linkedin.com/in/ivan-kalchev-b342b26b/)"
   ]
  },
  {
   "cell_type": "code",
   "execution_count": 1,
   "metadata": {},
   "outputs": [],
   "source": [
    "from sds011 import *\n",
    "from datetime import datetime\n",
    "import time"
   ]
  },
  {
   "cell_type": "code",
   "execution_count": 2,
   "metadata": {},
   "outputs": [
    {
     "name": "stdout",
     "output_type": "stream",
     "text": [
      "2019-08-20 21:08:07.053149\n"
     ]
    }
   ],
   "source": [
    "print(datetime.now())"
   ]
  },
  {
   "cell_type": "code",
   "execution_count": 3,
   "metadata": {},
   "outputs": [],
   "source": [
    "def time_now():\n",
    "    dateTimeObj = datetime.now()\n",
    "    timestampStr = dateTimeObj.strftime(\"%d-%b-%Y (%H:%M:%S)\")\n",
    "    return timestampStr"
   ]
  },
  {
   "cell_type": "code",
   "execution_count": null,
   "metadata": {},
   "outputs": [],
   "source": []
  },
  {
   "cell_type": "code",
   "execution_count": 5,
   "metadata": {},
   "outputs": [],
   "source": [
    "sensor = SDS011(\"/dev/ttyUSB0\")"
   ]
  },
  {
   "cell_type": "code",
   "execution_count": 6,
   "metadata": {},
   "outputs": [],
   "source": [
    "# Turn-on sensor\n",
    "sensor.sleep(sleep=False)"
   ]
  },
  {
   "cell_type": "code",
   "execution_count": 7,
   "metadata": {},
   "outputs": [],
   "source": [
    "# Turn-off sensor\n",
    "sensor.sleep(sleep=True)"
   ]
  },
  {
   "cell_type": "code",
   "execution_count": 8,
   "metadata": {},
   "outputs": [
    {
     "name": "stdout",
     "output_type": "stream",
     "text": [
      "2019-08-21 01:08:34\n"
     ]
    }
   ],
   "source": [
    "ts = time.gmtime()\n",
    "print(time.strftime(\"%Y-%m-%d %H:%M:%S\", ts))"
   ]
  },
  {
   "cell_type": "code",
   "execution_count": 8,
   "metadata": {},
   "outputs": [
    {
     "name": "stdout",
     "output_type": "stream",
     "text": [
      "Current Timestamp :  20-Aug-2019 (19:51:02)\n"
     ]
    }
   ],
   "source": [
    "# Converting datetime object to string\n",
    "dateTimeObj = datetime.now()\n",
    "timestamp = dateTimeObj.strftime(\"%d-%b-%Y (%H:%M:%S)\")\n",
    "print('Current Timestamp : ', timestamp)"
   ]
  },
  {
   "cell_type": "raw",
   "metadata": {},
   "source": [
    "sensor.set_work_period(work_time=20)"
   ]
  },
  {
   "cell_type": "code",
   "execution_count": 18,
   "metadata": {},
   "outputs": [
    {
     "name": "stdout",
     "output_type": "stream",
     "text": [
      "20-Aug-2019 (20:00:19)    PMT2.5: 2.4 μg/m3    PMT10 : 3.9 μg/m3\n"
     ]
    }
   ],
   "source": [
    "sensor.sleep(sleep=False)\n",
    "time.sleep(10)\n",
    "pmt_2_5, pmt_10 = sensor.query()\n",
    "print (time_now(), end='')\n",
    "print(f\"    PMT2.5: {pmt_2_5} μg/m3    \", end='')\n",
    "print(f\"PMT10 : {pmt_10} μg/m3\")\n",
    "sensor.sleep(sleep=True)\n",
    "time.sleep(2)"
   ]
  },
  {
   "cell_type": "markdown",
   "metadata": {},
   "source": [
    "---"
   ]
  },
  {
   "cell_type": "code",
   "execution_count": 19,
   "metadata": {},
   "outputs": [],
   "source": [
    "from gpiozero import CPUTemperature"
   ]
  },
  {
   "cell_type": "code",
   "execution_count": 20,
   "metadata": {},
   "outputs": [
    {
     "name": "stdout",
     "output_type": "stream",
     "text": [
      "CPU Temp: 62.3oC\n"
     ]
    }
   ],
   "source": [
    "cpu = CPUTemperature()\n",
    "print(f\"CPU Temp: {cpu.temperature:.3}oC\")"
   ]
  },
  {
   "cell_type": "markdown",
   "metadata": {},
   "source": [
    "---\n",
    "## AQI Converter\n",
    "A library to convert between AQI value and pollutant concentration (µg/m³ or ppm) using the following algorithms:\n",
    "- United States Environmental Protection Agency (EPA)\n",
    "- China Ministry of Environmental Protection (MEP)\n",
    "\n",
    "https://pypi.org/project/python-aqi/"
   ]
  },
  {
   "cell_type": "code",
   "execution_count": 12,
   "metadata": {},
   "outputs": [],
   "source": [
    "import aqi"
   ]
  },
  {
   "cell_type": "code",
   "execution_count": 23,
   "metadata": {},
   "outputs": [],
   "source": [
    "aqi_2_5 = aqi.to_iaqi(aqi.POLLUTANT_PM25, str(pmt_2_5))\n",
    "aqi_10 = aqi.to_iaqi(aqi.POLLUTANT_PM10, str(pmt_10))"
   ]
  },
  {
   "cell_type": "code",
   "execution_count": 24,
   "metadata": {},
   "outputs": [
    {
     "name": "stdout",
     "output_type": "stream",
     "text": [
      "20-Aug-2019 (20:01:38)    AQI (PMT2.5): 10    AQI(PMT10) : 3\n"
     ]
    }
   ],
   "source": [
    "print (time_now(), end='')\n",
    "print(f\"    AQI (PMT2.5): {aqi_2_5}    \", end='')\n",
    "print(f\"AQI(PMT10) : {aqi_10}\")"
   ]
  },
  {
   "cell_type": "markdown",
   "metadata": {},
   "source": [
    "---"
   ]
  },
  {
   "cell_type": "code",
   "execution_count": 9,
   "metadata": {},
   "outputs": [],
   "source": [
    "def get_data(n=3):\n",
    "        sensor.sleep(sleep=False)\n",
    "        pmt_2_5 = 0\n",
    "        pmt_10 = 0\n",
    "        time.sleep(10)\n",
    "        for i in range (n):\n",
    "            x = sensor.query()\n",
    "            pmt_2_5 = pmt_2_5 + x[0]\n",
    "            pmt_10 = pmt_10 + x[1]\n",
    "            time.sleep(2)\n",
    "        pmt_2_5 = round(pmt_2_5/n, 1)\n",
    "        pmt_10 = round(pmt_10/n, 1)\n",
    "        sensor.sleep(sleep=True)\n",
    "        time.sleep(2)\n",
    "        return pmt_2_5, pmt_10"
   ]
  },
  {
   "cell_type": "code",
   "execution_count": 30,
   "metadata": {},
   "outputs": [
    {
     "name": "stdout",
     "output_type": "stream",
     "text": [
      "0 (6.5, 14.6)\n",
      "1 (6.4, 17.0)\n",
      "2 (6.4, 17.9)\n",
      "3 (6.5, 17.8)\n",
      "4 (6.6, 17.1)\n"
     ]
    }
   ],
   "source": [
    "for i in range (5):\n",
    "    print (i, get_data())"
   ]
  },
  {
   "cell_type": "code",
   "execution_count": 10,
   "metadata": {},
   "outputs": [],
   "source": [
    "def conv_aqi(pmt_2_5, pmt_10):\n",
    "    aqi_2_5 = aqi.to_iaqi(aqi.POLLUTANT_PM25, str(pmt_2_5))\n",
    "    aqi_10 = aqi.to_iaqi(aqi.POLLUTANT_PM10, str(pmt_10))\n",
    "    return aqi_2_5, aqi_10"
   ]
  },
  {
   "cell_type": "code",
   "execution_count": 13,
   "metadata": {},
   "outputs": [
    {
     "name": "stdout",
     "output_type": "stream",
     "text": [
      "20-Aug-2019 (21:09:49)   PMT2.5: 5.2μg/m3 (AQI:22)  PMT10: 9.2μg/m3 (AQI:8)\n"
     ]
    }
   ],
   "source": [
    "pmt_2_5, pmt_10 = get_data()\n",
    "aqi_2_5, aqi_10 = conv_aqi(pmt_2_5, pmt_10)\n",
    "print (time_now(), end='')\n",
    "print(f\"   PMT2.5: {pmt_2_5}μg/m3 (AQI:{aqi_2_5})  \", end='')\n",
    "print(f\"PMT10: {pmt_10}μg/m3 (AQI:{aqi_10})\")"
   ]
  },
  {
   "cell_type": "markdown",
   "metadata": {},
   "source": [
    "---"
   ]
  },
  {
   "cell_type": "markdown",
   "metadata": {},
   "source": [
    "## Logging Data"
   ]
  },
  {
   "cell_type": "code",
   "execution_count": 76,
   "metadata": {},
   "outputs": [
    {
     "data": {
      "text/plain": [
       "'/home/pi/Documents/Air_Sensor'"
      ]
     },
     "execution_count": 76,
     "metadata": {},
     "output_type": "execute_result"
    }
   ],
   "source": [
    "pwd"
   ]
  },
  {
   "cell_type": "code",
   "execution_count": null,
   "metadata": {},
   "outputs": [],
   "source": [
    "with open(\"/home/pi/Documents/Air_Sensor/air_quality.csv\", \"a\") as log:\n",
    "    while True:\n",
    "        pmt_2_5, pmt_10 = get_data()\n",
    "        aqi_2_5, aqi_10 = conv_aqi(pmt_2_5, pmt_10)\n",
    "        dt = datetime.now()\n",
    "        log.write(\"{},{},{},{},{}\\n\".format(dt, pmt_2_5, aqi_2_5, pmt_10, aqi_10))\n",
    "        time.sleep(30)"
   ]
  },
  {
   "cell_type": "code",
   "execution_count": 85,
   "metadata": {},
   "outputs": [],
   "source": [
    "def save_log():        \n",
    "    with open(\"/home/pi/Documents/Air_Sensor/air_quality.csv\", \"a\") as log:\n",
    "        pmt_2_5, pmt_10 = get_data()\n",
    "        aqi_2_5, aqi_10 = conv_aqi(pmt_2_5, pmt_10)\n",
    "        dt = datetime.now()\n",
    "        log.write(\"{},{},{},{},{}\\n\".format(dt, pmt_2_5, aqi_2_5, pmt_10, aqi_10))\n",
    "    log.close()   "
   ]
  },
  {
   "cell_type": "code",
   "execution_count": 86,
   "metadata": {},
   "outputs": [],
   "source": [
    "save_log()\n",
    "time.sleep(30)\n",
    "save_log()\n",
    "time.sleep(30)\n",
    "save_log()"
   ]
  },
  {
   "cell_type": "markdown",
   "metadata": {},
   "source": [
    "---"
   ]
  },
  {
   "cell_type": "markdown",
   "metadata": {},
   "source": [
    "## Sending Data to ThingSpeak"
   ]
  },
  {
   "cell_type": "code",
   "execution_count": null,
   "metadata": {},
   "outputs": [],
   "source": [
    "# Need to install the Paho client library.  \n",
    "# sudo pip install paho-mqtt"
   ]
  },
  {
   "cell_type": "code",
   "execution_count": 16,
   "metadata": {},
   "outputs": [],
   "source": [
    "import paho.mqtt.publish as publish\n",
    "import psutil"
   ]
  },
  {
   "cell_type": "markdown",
   "metadata": {},
   "source": [
    "ThingSpeak credentials and inicialization"
   ]
  },
  {
   "cell_type": "code",
   "execution_count": 17,
   "metadata": {},
   "outputs": [],
   "source": [
    "channelID = \"YOUR CHANNEL ID\"\n",
    "apiKey = \"YOUR WRITE KEY\"\n",
    "topic = \"channels/\" + channelID + \"/publish/\" + apiKey\n",
    "mqttHost = \"mqtt.thingspeak.com\""
   ]
  },
  {
   "cell_type": "markdown",
   "metadata": {},
   "source": [
    "MQTT Protocol Initialization"
   ]
  },
  {
   "cell_type": "code",
   "execution_count": 18,
   "metadata": {},
   "outputs": [],
   "source": [
    "# Conventional TCP socket on port 1883.  \n",
    "# This connection method is the simplest and requires the least system resources.\n",
    "tTransport = \"tcp\"\n",
    "tPort = 1883\n",
    "tTLS = None"
   ]
  },
  {
   "cell_type": "markdown",
   "metadata": {},
   "source": [
    "Defining Payload"
   ]
  },
  {
   "cell_type": "code",
   "execution_count": 35,
   "metadata": {},
   "outputs": [],
   "source": [
    "tPayload = \"field1=\" + str(pmt_2_5)+ \"&field2=\" + str(aqi_2_5)+ \"&field3=\" + str(pmt_10)+ \"&field4=\" + str(aqi_10)"
   ]
  },
  {
   "cell_type": "markdown",
   "metadata": {},
   "source": [
    "Testing sending data one time"
   ]
  },
  {
   "cell_type": "code",
   "execution_count": 36,
   "metadata": {},
   "outputs": [],
   "source": [
    "pmt_2_5, pmt_10 = get_data()\n",
    "aqi_2_5, aqi_10 = conv_aqi(pmt_2_5, pmt_10)"
   ]
  },
  {
   "cell_type": "code",
   "execution_count": 37,
   "metadata": {},
   "outputs": [
    {
     "name": "stdout",
     "output_type": "stream",
     "text": [
      "[INFO] Data prepared to be uploaded\n",
      "[INFO] Data sent for 4 fields:  6.9 29 17.7 16\n"
     ]
    }
   ],
   "source": [
    "print (\"[INFO] Data prepared to be uploaded\")\n",
    "try:\n",
    "    publish.single(topic, payload=tPayload, hostname=mqttHost, port=tPort, tls=tTLS, transport=tTransport)\n",
    "    print (\"[INFO] Data sent for 4 fields: \", pmt_2_5, aqi_2_5, pmt_10, aqi_10)\n",
    "except:\n",
    "    print (\"[INFO] Failure in sending data\")"
   ]
  },
  {
   "cell_type": "markdown",
   "metadata": {},
   "source": [
    "Sending data continuosly"
   ]
  },
  {
   "cell_type": "code",
   "execution_count": 14,
   "metadata": {},
   "outputs": [],
   "source": [
    "def save_log():        \n",
    "    with open(\"/YOUR PATH HERE/air_quality.csv\", \"a\") as log:\n",
    "        dt = datetime.now()\n",
    "        log.write(\"{},{},{},{},{}\\n\".format(dt, pmt_2_5, aqi_2_5, pmt_10, aqi_10))\n",
    "    log.close()  "
   ]
  },
  {
   "cell_type": "code",
   "execution_count": null,
   "metadata": {},
   "outputs": [],
   "source": [
    "# Sending all data to ThingSpeak every 1 minute\n",
    "while(True): \n",
    "        pmt_2_5, pmt_10 = get_data()\n",
    "        aqi_2_5, aqi_10 = conv_aqi(pmt_2_5, pmt_10)\n",
    "        tPayload = \"field1=\" + str(pmt_2_5)+ \"&field2=\" + str(aqi_2_5)+ \"&field3=\" + str(pmt_10)+ \"&field4=\" + str(aqi_10)\n",
    "        try:\n",
    "            publish.single(topic, payload=tPayload, hostname=mqttHost, port=tPort, tls=tTLS, transport=tTransport)\n",
    "            save_log()\n",
    "        except (KeyboardInterrupt):\n",
    "            break\n",
    "        except:\n",
    "            print (\"[INFO] Failure in sending data\") \n",
    "        time.sleep(60)"
   ]
  },
  {
   "cell_type": "code",
   "execution_count": null,
   "metadata": {},
   "outputs": [],
   "source": []
  }
 ],
 "metadata": {
  "kernelspec": {
   "display_name": "Python 3",
   "language": "python",
   "name": "python3"
  },
  "language_info": {
   "codemirror_mode": {
    "name": "ipython",
    "version": 3
   },
   "file_extension": ".py",
   "mimetype": "text/x-python",
   "name": "python",
   "nbconvert_exporter": "python",
   "pygments_lexer": "ipython3",
   "version": "3.7.3"
  }
 },
 "nbformat": 4,
 "nbformat_minor": 2
}
